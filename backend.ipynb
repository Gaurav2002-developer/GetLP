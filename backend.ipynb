{
 "cells": [
  {
   "cell_type": "code",
   "execution_count": 16,
   "id": "32c72944-15ac-42b1-b630-27bfc2184d1b",
   "metadata": {},
   "outputs": [
    {
     "name": "stdout",
     "output_type": "stream",
     "text": [
      "Requirement already satisfied: RapidFuzz in d:\\anaconda\\lib\\site-packages (3.13.0)\n"
     ]
    }
   ],
   "source": [
    "import pandas as pd\n",
    "!pip install RapidFuzz\n",
    "from rapidfuzz import process"
   ]
  },
  {
   "cell_type": "code",
   "execution_count": 3,
   "id": "8a426f43-ca0f-4a9d-bde4-65409d95e2fa",
   "metadata": {},
   "outputs": [],
   "source": [
    "df = pd.read_excel('answer.csv')\n",
    "df.head()\n",
    "df.columns = df.columns.str.strip().str.lower()"
   ]
  },
  {
   "cell_type": "code",
   "execution_count": 8,
   "id": "2861eb79-a6a8-4f15-9c81-7f2079606b2e",
   "metadata": {},
   "outputs": [
    {
     "name": "stdout",
     "output_type": "stream",
     "text": [
      "True\n"
     ]
    }
   ],
   "source": [
    "import   os\n",
    "print(os.path.exists('answer.csv'))"
   ]
  },
  {
   "cell_type": "code",
   "execution_count": 23,
   "id": "016e5c35-8f59-4b7f-bb05-424932352f29",
   "metadata": {},
   "outputs": [
    {
     "name": "stdout",
     "output_type": "stream",
     "text": [
      " A linked list is a linear data structure that's made up of nodes that are linked together by references. Each node contains data and a reference to the next node in the list.\n"
     ]
    }
   ],
   "source": [
    "from rapidfuzz import process\n",
    "\n",
    "def best_matches(query, questions, score_cutoff=60):\n",
    "        best_match = process.extractOne(query.lower(), questions, score_cutoff=score_cutoff)\n",
    "        if best_match:\n",
    "            return best_match[0] \n",
    "        else:\n",
    "            return None\n",
    "\n",
    "def fd_ans(query):\n",
    "    questions = df['question'].astype(str).str.strip().str.lower().tolist()\n",
    "    matched_question = best_matches(query, questions)\n",
    "    \n",
    "    if matched_question:\n",
    "        answer_row = df[df['question'].str.strip().str.lower() == matched_question]\n",
    "        return answer_row.iloc[0]['answer']\n",
    "    else:\n",
    "        return \"Sorry, I don't have an answer for that.\"\n",
    "\n",
    "question_asked = fd_ans(\"Linked Lost?\")\n",
    "print(question_asked)\n"
   ]
  },
  {
   "cell_type": "code",
   "execution_count": null,
   "id": "e99bf1be-7f04-40ae-abb4-2f35651317e6",
   "metadata": {},
   "outputs": [],
   "source": []
  }
 ],
 "metadata": {
  "kernelspec": {
   "display_name": "Python 3 (ipykernel)",
   "language": "python",
   "name": "python3"
  },
  "language_info": {
   "codemirror_mode": {
    "name": "ipython",
    "version": 3
   },
   "file_extension": ".py",
   "mimetype": "text/x-python",
   "name": "python",
   "nbconvert_exporter": "python",
   "pygments_lexer": "ipython3",
   "version": "3.12.4"
  }
 },
 "nbformat": 4,
 "nbformat_minor": 5
}
